{
 "cells": [
  {
   "cell_type": "code",
   "execution_count": 3,
   "metadata": {},
   "outputs": [
    {
     "name": "stderr",
     "output_type": "stream",
     "text": [
      "/Users/owaiskamdar/Desktop/resume_optimizer/venv311/lib/python3.11/site-packages/tqdm/auto.py:21: TqdmWarning: IProgress not found. Please update jupyter and ipywidgets. See https://ipywidgets.readthedocs.io/en/stable/user_install.html\n",
      "  from .autonotebook import tqdm as notebook_tqdm\n"
     ]
    }
   ],
   "source": [
    "import kagglehub\n",
    "import pandas as pd\n",
    "import os\n",
    "import pandas as pd\n",
    "from PyPDF2 import PdfReader\n",
    "from tqdm import tqdm\n",
    "import numpy as np\n",
    "import matplotlib.pyplot as plt\n",
    "\n"
   ]
  },
  {
   "cell_type": "code",
   "execution_count": 4,
   "metadata": {},
   "outputs": [
    {
     "name": "stdout",
     "output_type": "stream",
     "text": [
      "Job Descriptions Path: /Users/owaiskamdar/.cache/kagglehub/datasets/vaghefi/indeed-jobs/versions/1\n",
      "Resumes Path: /Users/owaiskamdar/.cache/kagglehub/datasets/sauravsolanki/hire-a-perfect-machine-learning-engineer/versions/1\n"
     ]
    }
   ],
   "source": [
    "# Download datasets from kaggle\n",
    "path_jd = kagglehub.dataset_download(\"vaghefi/indeed-jobs\")\n",
    "path_resumes = kagglehub.dataset_download(\"sauravsolanki/hire-a-perfect-machine-learning-engineer\")\n",
    "\n",
    "print(f\"Job Descriptions Path: {path_jd}\")\n",
    "print(f\"Resumes Path: {path_resumes}\")\n"
   ]
  },
  {
   "cell_type": "code",
   "execution_count": 130,
   "metadata": {},
   "outputs": [
    {
     "data": {
      "text/html": [
       "<div>\n",
       "<style scoped>\n",
       "    .dataframe tbody tr th:only-of-type {\n",
       "        vertical-align: middle;\n",
       "    }\n",
       "\n",
       "    .dataframe tbody tr th {\n",
       "        vertical-align: top;\n",
       "    }\n",
       "\n",
       "    .dataframe thead th {\n",
       "        text-align: right;\n",
       "    }\n",
       "</style>\n",
       "<table border=\"1\" class=\"dataframe\">\n",
       "  <thead>\n",
       "    <tr style=\"text-align: right;\">\n",
       "      <th></th>\n",
       "      <th>title</th>\n",
       "      <th>description</th>\n",
       "      <th>city</th>\n",
       "      <th>state</th>\n",
       "      <th>zipcode</th>\n",
       "      <th>salary</th>\n",
       "      <th>company</th>\n",
       "      <th>rating</th>\n",
       "      <th>reviews</th>\n",
       "    </tr>\n",
       "  </thead>\n",
       "  <tbody>\n",
       "    <tr>\n",
       "      <th>0</th>\n",
       "      <td>Data Scientist</td>\n",
       "      <td>About Live Objects\\nLive Objects delivers cont...</td>\n",
       "      <td>Palo Alto</td>\n",
       "      <td>CA</td>\n",
       "      <td>94301</td>\n",
       "      <td>NaN</td>\n",
       "      <td>LIVE OBJECTS</td>\n",
       "      <td>NaN</td>\n",
       "      <td>NaN</td>\n",
       "    </tr>\n",
       "    <tr>\n",
       "      <th>1</th>\n",
       "      <td>Senior Data Scientist, FP&amp;A</td>\n",
       "      <td>The Senior Data Scientist, FP&amp;A role is primar...</td>\n",
       "      <td>Orrville</td>\n",
       "      <td>OH</td>\n",
       "      <td>44667</td>\n",
       "      <td>NaN</td>\n",
       "      <td>The J. M. Smucker Company</td>\n",
       "      <td>3.8</td>\n",
       "      <td>393.0</td>\n",
       "    </tr>\n",
       "    <tr>\n",
       "      <th>2</th>\n",
       "      <td>BI Developer (Tableau)</td>\n",
       "      <td>**U.S. Citizens and those authorized to work i...</td>\n",
       "      <td>Charlotte</td>\n",
       "      <td>NC</td>\n",
       "      <td>28202</td>\n",
       "      <td>$97,000 a year</td>\n",
       "      <td>Vaco</td>\n",
       "      <td>3.7</td>\n",
       "      <td>272.0</td>\n",
       "    </tr>\n",
       "    <tr>\n",
       "      <th>3</th>\n",
       "      <td>Search &amp; Information Retrieval Engineer / Scie...</td>\n",
       "      <td>Summary\\nPosted: Jul 29, 2020\\nRole Number:200...</td>\n",
       "      <td>Santa Clara Valley</td>\n",
       "      <td>CA</td>\n",
       "      <td>95014</td>\n",
       "      <td>NaN</td>\n",
       "      <td>Apple</td>\n",
       "      <td>4.2</td>\n",
       "      <td>9782.0</td>\n",
       "    </tr>\n",
       "    <tr>\n",
       "      <th>4</th>\n",
       "      <td>Machine Learning Engineer</td>\n",
       "      <td>At Sisu, we're building a software platform th...</td>\n",
       "      <td>San Francisco</td>\n",
       "      <td>CA</td>\n",
       "      <td>NaN</td>\n",
       "      <td>NaN</td>\n",
       "      <td>Sisu</td>\n",
       "      <td>4.4</td>\n",
       "      <td>8.0</td>\n",
       "    </tr>\n",
       "  </tbody>\n",
       "</table>\n",
       "</div>"
      ],
      "text/plain": [
       "                                               title  \\\n",
       "0                                     Data Scientist   \n",
       "1                        Senior Data Scientist, FP&A   \n",
       "2                             BI Developer (Tableau)   \n",
       "3  Search & Information Retrieval Engineer / Scie...   \n",
       "4                          Machine Learning Engineer   \n",
       "\n",
       "                                         description                city  \\\n",
       "0  About Live Objects\\nLive Objects delivers cont...           Palo Alto   \n",
       "1  The Senior Data Scientist, FP&A role is primar...            Orrville   \n",
       "2  **U.S. Citizens and those authorized to work i...           Charlotte   \n",
       "3  Summary\\nPosted: Jul 29, 2020\\nRole Number:200...  Santa Clara Valley   \n",
       "4  At Sisu, we're building a software platform th...       San Francisco   \n",
       "\n",
       "  state zipcode          salary                    company  rating  reviews  \n",
       "0    CA   94301             NaN               LIVE OBJECTS     NaN      NaN  \n",
       "1    OH   44667             NaN  The J. M. Smucker Company     3.8    393.0  \n",
       "2    NC   28202  $97,000 a year                       Vaco     3.7    272.0  \n",
       "3    CA   95014             NaN                      Apple     4.2   9782.0  \n",
       "4    CA     NaN             NaN                       Sisu     4.4      8.0  "
      ]
     },
     "execution_count": 130,
     "metadata": {},
     "output_type": "execute_result"
    }
   ],
   "source": [
    "# define roots for jobs\n",
    "PROJECT_ROOT = os.path.abspath(os.path.join(os.getcwd(), \"..\"))\n",
    "RAW_JOBS_PATH = os.path.join(PROJECT_ROOT, \"data/raw/jobs\")\n",
    "\n",
    "# Load job descriptions CSV\n",
    "job_descriptions = pd.read_csv(path_jd + \"/indeed_jobs.csv\")\n",
    "\n",
    "# Preview dataset\n",
    "job_descriptions.head()\n",
    "\n",
    "\n",
    "\n"
   ]
  },
  {
   "cell_type": "code",
   "execution_count": 148,
   "metadata": {},
   "outputs": [
    {
     "name": "stdout",
     "output_type": "stream",
     "text": [
      "Number of duplicate rows: 20\n"
     ]
    },
    {
     "data": {
      "text/html": [
       "<div>\n",
       "<style scoped>\n",
       "    .dataframe tbody tr th:only-of-type {\n",
       "        vertical-align: middle;\n",
       "    }\n",
       "\n",
       "    .dataframe tbody tr th {\n",
       "        vertical-align: top;\n",
       "    }\n",
       "\n",
       "    .dataframe thead th {\n",
       "        text-align: right;\n",
       "    }\n",
       "</style>\n",
       "<table border=\"1\" class=\"dataframe\">\n",
       "  <thead>\n",
       "    <tr style=\"text-align: right;\">\n",
       "      <th></th>\n",
       "      <th>title</th>\n",
       "      <th>description</th>\n",
       "      <th>city</th>\n",
       "      <th>state</th>\n",
       "      <th>zipcode</th>\n",
       "      <th>salary</th>\n",
       "      <th>company</th>\n",
       "      <th>rating</th>\n",
       "      <th>reviews</th>\n",
       "    </tr>\n",
       "  </thead>\n",
       "  <tbody>\n",
       "    <tr>\n",
       "      <th>0</th>\n",
       "      <td>Data Scientist</td>\n",
       "      <td>About Live Objects\\nLive Objects delivers cont...</td>\n",
       "      <td>Palo Alto</td>\n",
       "      <td>CA</td>\n",
       "      <td>94301</td>\n",
       "      <td>NaN</td>\n",
       "      <td>LIVE OBJECTS</td>\n",
       "      <td>NaN</td>\n",
       "      <td>NaN</td>\n",
       "    </tr>\n",
       "    <tr>\n",
       "      <th>1</th>\n",
       "      <td>Senior Data Scientist, FP&amp;A</td>\n",
       "      <td>The Senior Data Scientist, FP&amp;A role is primar...</td>\n",
       "      <td>Orrville</td>\n",
       "      <td>OH</td>\n",
       "      <td>44667</td>\n",
       "      <td>NaN</td>\n",
       "      <td>The J. M. Smucker Company</td>\n",
       "      <td>3.8</td>\n",
       "      <td>393.0</td>\n",
       "    </tr>\n",
       "    <tr>\n",
       "      <th>3</th>\n",
       "      <td>Search &amp; Information Retrieval Engineer / Scie...</td>\n",
       "      <td>Summary\\nPosted: Jul 29, 2020\\nRole Number:200...</td>\n",
       "      <td>Santa Clara Valley</td>\n",
       "      <td>CA</td>\n",
       "      <td>95014</td>\n",
       "      <td>NaN</td>\n",
       "      <td>Apple</td>\n",
       "      <td>4.2</td>\n",
       "      <td>9782.0</td>\n",
       "    </tr>\n",
       "    <tr>\n",
       "      <th>4</th>\n",
       "      <td>Machine Learning Engineer</td>\n",
       "      <td>At Sisu, we're building a software platform th...</td>\n",
       "      <td>San Francisco</td>\n",
       "      <td>CA</td>\n",
       "      <td>NaN</td>\n",
       "      <td>NaN</td>\n",
       "      <td>Sisu</td>\n",
       "      <td>4.4</td>\n",
       "      <td>8.0</td>\n",
       "    </tr>\n",
       "    <tr>\n",
       "      <th>5</th>\n",
       "      <td>Database Administrator</td>\n",
       "      <td>The Database Administrator is responsible for ...</td>\n",
       "      <td>Omaha</td>\n",
       "      <td>NE</td>\n",
       "      <td>NaN</td>\n",
       "      <td>NaN</td>\n",
       "      <td>Galapagos Federal Systems, LLC</td>\n",
       "      <td>NaN</td>\n",
       "      <td>NaN</td>\n",
       "    </tr>\n",
       "    <tr>\n",
       "      <th>...</th>\n",
       "      <td>...</td>\n",
       "      <td>...</td>\n",
       "      <td>...</td>\n",
       "      <td>...</td>\n",
       "      <td>...</td>\n",
       "      <td>...</td>\n",
       "      <td>...</td>\n",
       "      <td>...</td>\n",
       "      <td>...</td>\n",
       "    </tr>\n",
       "    <tr>\n",
       "      <th>3191</th>\n",
       "      <td>Data Scientist, Mars Petcare - Portland, OR</td>\n",
       "      <td>The Petcare Segment consists of five Divisions...</td>\n",
       "      <td>Portland</td>\n",
       "      <td>OR</td>\n",
       "      <td>97212</td>\n",
       "      <td>NaN</td>\n",
       "      <td>Mars</td>\n",
       "      <td>3.9</td>\n",
       "      <td>1790.0</td>\n",
       "    </tr>\n",
       "    <tr>\n",
       "      <th>3192</th>\n",
       "      <td>Artificial Intelligence, Senior Consultant – A...</td>\n",
       "      <td>Artificial Intelligence, Senior Consultant – A...</td>\n",
       "      <td>San Jose</td>\n",
       "      <td>CA</td>\n",
       "      <td>95113</td>\n",
       "      <td>NaN</td>\n",
       "      <td>Deloitte</td>\n",
       "      <td>4.0</td>\n",
       "      <td>9750.0</td>\n",
       "    </tr>\n",
       "    <tr>\n",
       "      <th>3193</th>\n",
       "      <td>Data Scientist</td>\n",
       "      <td>Position Description\\n\\nCGI Federal is seeking...</td>\n",
       "      <td>Baltimore</td>\n",
       "      <td>MD</td>\n",
       "      <td>21203</td>\n",
       "      <td>NaN</td>\n",
       "      <td>CGI Group, Inc.</td>\n",
       "      <td>3.6</td>\n",
       "      <td>2888.0</td>\n",
       "    </tr>\n",
       "    <tr>\n",
       "      <th>3194</th>\n",
       "      <td>Professional, Advanced Analytics, Data Visuali...</td>\n",
       "      <td>AT&amp;T is looking for a talented, highly motivat...</td>\n",
       "      <td>El Segundo</td>\n",
       "      <td>CA</td>\n",
       "      <td>90245</td>\n",
       "      <td>NaN</td>\n",
       "      <td>AT&amp;T</td>\n",
       "      <td>3.8</td>\n",
       "      <td>42546.0</td>\n",
       "    </tr>\n",
       "    <tr>\n",
       "      <th>3195</th>\n",
       "      <td>086: Data Engineer (Junior)</td>\n",
       "      <td>We’re helping a major health insurer find seve...</td>\n",
       "      <td>Detroit</td>\n",
       "      <td>MI</td>\n",
       "      <td>NaN</td>\n",
       "      <td>NaN</td>\n",
       "      <td>Dataspace</td>\n",
       "      <td>NaN</td>\n",
       "      <td>NaN</td>\n",
       "    </tr>\n",
       "  </tbody>\n",
       "</table>\n",
       "<p>3055 rows × 9 columns</p>\n",
       "</div>"
      ],
      "text/plain": [
       "                                                  title  \\\n",
       "0                                        Data Scientist   \n",
       "1                           Senior Data Scientist, FP&A   \n",
       "3     Search & Information Retrieval Engineer / Scie...   \n",
       "4                             Machine Learning Engineer   \n",
       "5                                Database Administrator   \n",
       "...                                                 ...   \n",
       "3191        Data Scientist, Mars Petcare - Portland, OR   \n",
       "3192  Artificial Intelligence, Senior Consultant – A...   \n",
       "3193                                     Data Scientist   \n",
       "3194  Professional, Advanced Analytics, Data Visuali...   \n",
       "3195                        086: Data Engineer (Junior)   \n",
       "\n",
       "                                            description                city  \\\n",
       "0     About Live Objects\\nLive Objects delivers cont...           Palo Alto   \n",
       "1     The Senior Data Scientist, FP&A role is primar...            Orrville   \n",
       "3     Summary\\nPosted: Jul 29, 2020\\nRole Number:200...  Santa Clara Valley   \n",
       "4     At Sisu, we're building a software platform th...       San Francisco   \n",
       "5     The Database Administrator is responsible for ...               Omaha   \n",
       "...                                                 ...                 ...   \n",
       "3191  The Petcare Segment consists of five Divisions...            Portland   \n",
       "3192  Artificial Intelligence, Senior Consultant – A...            San Jose   \n",
       "3193  Position Description\\n\\nCGI Federal is seeking...           Baltimore   \n",
       "3194  AT&T is looking for a talented, highly motivat...          El Segundo   \n",
       "3195  We’re helping a major health insurer find seve...             Detroit   \n",
       "\n",
       "     state zipcode salary                         company  rating  reviews  \n",
       "0       CA   94301    NaN                    LIVE OBJECTS     NaN      NaN  \n",
       "1       OH   44667    NaN       The J. M. Smucker Company     3.8    393.0  \n",
       "3       CA   95014    NaN                           Apple     4.2   9782.0  \n",
       "4       CA     NaN    NaN                            Sisu     4.4      8.0  \n",
       "5       NE     NaN    NaN  Galapagos Federal Systems, LLC     NaN      NaN  \n",
       "...    ...     ...    ...                             ...     ...      ...  \n",
       "3191    OR   97212    NaN                            Mars     3.9   1790.0  \n",
       "3192    CA   95113    NaN                        Deloitte     4.0   9750.0  \n",
       "3193    MD   21203    NaN                 CGI Group, Inc.     3.6   2888.0  \n",
       "3194    CA   90245    NaN                            AT&T     3.8  42546.0  \n",
       "3195    MI     NaN    NaN                       Dataspace     NaN      NaN  \n",
       "\n",
       "[3055 rows x 9 columns]"
      ]
     },
     "execution_count": 148,
     "metadata": {},
     "output_type": "execute_result"
    }
   ],
   "source": [
    "# check for duplicates rows\n",
    "num_duplicates = job_descriptions.duplicated().sum()\n",
    "print(f\"Number of duplicate rows: {num_duplicates}\")\n",
    "\n",
    "# check for any nulls in the df\n",
    "job_descriptions[job_descriptions.isnull().any(axis=1)]\n",
    "\n",
    "\n"
   ]
  },
  {
   "cell_type": "code",
   "execution_count": 138,
   "metadata": {},
   "outputs": [
    {
     "name": "stdout",
     "output_type": "stream",
     "text": [
      "Total Train Resumes Downloaded: 90\n",
      "Total Test Resumes Downloaded: 60\n"
     ]
    }
   ],
   "source": [
    "RAW_TRAIN_RESUMES_PATH = os.path.join(PROJECT_ROOT, \"data/raw/resumes/train\")\n",
    "RAW_TEST_RESUMES_PATH = os.path.join(PROJECT_ROOT, \"data/raw/resumes/test\")\n",
    "\n",
    "pdf_train_folder = path_resumes + \"/HireAMLE/dataset/trainResumes\"\n",
    "pdf_test_folder = path_resumes + \"/HireAMLE/dataset/testResumes\"\n",
    "\n",
    "\n",
    "pdf_train_files = [f for f in os.listdir(pdf_train_folder) if f.endswith(\".pdf\")]\n",
    "pdf_test_files = [f for f in os.listdir(pdf_test_folder) if f.endswith(\".pdf\")]\n",
    "\n",
    "print(f\"Total Train Resumes Downloaded: {len(pdf_train_files)}\")\n",
    "print(f\"Total Test Resumes Downloaded: {len(pdf_test_files)}\")\n",
    "\n",
    "\n"
   ]
  },
  {
   "cell_type": "code",
   "execution_count": 151,
   "metadata": {},
   "outputs": [],
   "source": [
    "# extract text from pdfs\n",
    "def extract_text_from_pdf(pdf_path):\n",
    "    \"\"\"Extract text from a PDF file.\"\"\"\n",
    "    try:\n",
    "        reader = PdfReader(pdf_path)\n",
    "        text = \"\\n\".join([page.extract_text() for page in reader.pages if page.extract_text()])\n",
    "        return text.strip()\n",
    "    except Exception as e:\n",
    "        print(f\"Error reading {pdf_path}: {e}\")\n",
    "        return None\n"
   ]
  },
  {
   "cell_type": "code",
   "execution_count": 157,
   "metadata": {},
   "outputs": [
    {
     "name": "stderr",
     "output_type": "stream",
     "text": [
      "Extracting text from PDFs: 100%|██████████| 90/90 [00:02<00:00, 44.54it/s]\n"
     ]
    },
    {
     "data": {
      "text/html": [
       "<div>\n",
       "<style scoped>\n",
       "    .dataframe tbody tr th:only-of-type {\n",
       "        vertical-align: middle;\n",
       "    }\n",
       "\n",
       "    .dataframe tbody tr th {\n",
       "        vertical-align: top;\n",
       "    }\n",
       "\n",
       "    .dataframe thead th {\n",
       "        text-align: right;\n",
       "    }\n",
       "</style>\n",
       "<table border=\"1\" class=\"dataframe\">\n",
       "  <thead>\n",
       "    <tr style=\"text-align: right;\">\n",
       "      <th></th>\n",
       "      <th>filename</th>\n",
       "      <th>resume_text</th>\n",
       "    </tr>\n",
       "  </thead>\n",
       "  <tbody>\n",
       "    <tr>\n",
       "      <th>0</th>\n",
       "      <td>candidate_070.pdf</td>\n",
       "      <td>Publicis Sapient\\nDATA PROGRAMMER, JAN 2019 - ...</td>\n",
       "    </tr>\n",
       "    <tr>\n",
       "      <th>1</th>\n",
       "      <td>candidate_064.pdf</td>\n",
       "      <td>DAMIAN ROSSIER\\nPROFILE\\nExpertise EDA modeler...</td>\n",
       "    </tr>\n",
       "    <tr>\n",
       "      <th>2</th>\n",
       "      <td>candidate_138.pdf</td>\n",
       "      <td>One97 Communications Limited \\nData Scientist ...</td>\n",
       "    </tr>\n",
       "    <tr>\n",
       "      <th>3</th>\n",
       "      <td>candidate_104.pdf</td>\n",
       "      <td>Sanrachna SGT University \\nDeputy Data Analyst...</td>\n",
       "    </tr>\n",
       "    <tr>\n",
       "      <th>4</th>\n",
       "      <td>candidate_110.pdf</td>\n",
       "      <td>BILL CLIFFORD\\nPROFILE\\nI am an experienced an...</td>\n",
       "    </tr>\n",
       "  </tbody>\n",
       "</table>\n",
       "</div>"
      ],
      "text/plain": [
       "            filename                                        resume_text\n",
       "0  candidate_070.pdf  Publicis Sapient\\nDATA PROGRAMMER, JAN 2019 - ...\n",
       "1  candidate_064.pdf  DAMIAN ROSSIER\\nPROFILE\\nExpertise EDA modeler...\n",
       "2  candidate_138.pdf  One97 Communications Limited \\nData Scientist ...\n",
       "3  candidate_104.pdf  Sanrachna SGT University \\nDeputy Data Analyst...\n",
       "4  candidate_110.pdf  BILL CLIFFORD\\nPROFILE\\nI am an experienced an..."
      ]
     },
     "execution_count": 157,
     "metadata": {},
     "output_type": "execute_result"
    }
   ],
   "source": [
    "\n",
    "# get list of pdfs\n",
    "pdf_files = [f for f in os.listdir(RAW_TRAIN_RESUMES_PATH) if f.endswith(\".pdf\")]\n",
    "\n",
    "# extract text from each PDF and store it in a DataFrame\n",
    "resume_data = []\n",
    "for pdf_file in tqdm(pdf_files, desc=\"Extracting text from PDFs\"):\n",
    "    pdf_path = os.path.join(RAW_TRAIN_RESUMES_PATH, pdf_file)\n",
    "    resume_text = extract_text_from_pdf(pdf_path)\n",
    "    resume_data.append({\"filename\": pdf_file, \"resume_text\": resume_text})\n",
    "\n",
    "# convert to DataFrame\n",
    "df_resumes_train     = pd.DataFrame(resume_data)\n",
    "\n",
    "# Preview extracted resumes\n",
    "df_resumes_train.head()"
   ]
  },
  {
   "cell_type": "code",
   "execution_count": 158,
   "metadata": {},
   "outputs": [
    {
     "name": "stdout",
     "output_type": "stream",
     "text": [
      "90\n",
      "Number of duplicate rows: 0\n"
     ]
    }
   ],
   "source": [
    "# count rows\n",
    "print(len(df_resumes_train)) \n",
    "\n",
    "# count for duplicates\n",
    "num_duplicates = df_resumes_train.duplicated().sum()\n",
    "print(f\"Number of duplicate rows: {num_duplicates}\")\n",
    "\n",
    "\n"
   ]
  },
  {
   "cell_type": "code",
   "execution_count": 159,
   "metadata": {},
   "outputs": [
    {
     "name": "stderr",
     "output_type": "stream",
     "text": [
      "Extracting text from PDFs: 100%|██████████| 60/60 [00:01<00:00, 41.62it/s]\n"
     ]
    },
    {
     "data": {
      "text/html": [
       "<div>\n",
       "<style scoped>\n",
       "    .dataframe tbody tr th:only-of-type {\n",
       "        vertical-align: middle;\n",
       "    }\n",
       "\n",
       "    .dataframe tbody tr th {\n",
       "        vertical-align: top;\n",
       "    }\n",
       "\n",
       "    .dataframe thead th {\n",
       "        text-align: right;\n",
       "    }\n",
       "</style>\n",
       "<table border=\"1\" class=\"dataframe\">\n",
       "  <thead>\n",
       "    <tr style=\"text-align: right;\">\n",
       "      <th></th>\n",
       "      <th>filename</th>\n",
       "      <th>resume_text</th>\n",
       "    </tr>\n",
       "  </thead>\n",
       "  <tbody>\n",
       "    <tr>\n",
       "      <th>0</th>\n",
       "      <td>candidate_058.pdf</td>\n",
       "      <td>SEBASTIAN GOLER\\nASSOCIATE DATA MANAGER\\nWORK ...</td>\n",
       "    </tr>\n",
       "    <tr>\n",
       "      <th>1</th>\n",
       "      <td>candidate_139.pdf</td>\n",
       "      <td>KEISUKE YAMAMOTO\\nPROFILE\\nProfessional with 3...</td>\n",
       "    </tr>\n",
       "    <tr>\n",
       "      <th>2</th>\n",
       "      <td>candidate_059.pdf</td>\n",
       "      <td>PROFILE\\nAn eclectic researcher, with adept cr...</td>\n",
       "    </tr>\n",
       "    <tr>\n",
       "      <th>3</th>\n",
       "      <td>candidate_098.pdf</td>\n",
       "      <td>VoyaGenius Labs \\nSoftware Developer (ML), Dec...</td>\n",
       "    </tr>\n",
       "    <tr>\n",
       "      <th>4</th>\n",
       "      <td>candidate_073.pdf</td>\n",
       "      <td>PROFILE\\nI am a junior developer currently wor...</td>\n",
       "    </tr>\n",
       "  </tbody>\n",
       "</table>\n",
       "</div>"
      ],
      "text/plain": [
       "            filename                                        resume_text\n",
       "0  candidate_058.pdf  SEBASTIAN GOLER\\nASSOCIATE DATA MANAGER\\nWORK ...\n",
       "1  candidate_139.pdf  KEISUKE YAMAMOTO\\nPROFILE\\nProfessional with 3...\n",
       "2  candidate_059.pdf  PROFILE\\nAn eclectic researcher, with adept cr...\n",
       "3  candidate_098.pdf  VoyaGenius Labs \\nSoftware Developer (ML), Dec...\n",
       "4  candidate_073.pdf  PROFILE\\nI am a junior developer currently wor..."
      ]
     },
     "execution_count": 159,
     "metadata": {},
     "output_type": "execute_result"
    }
   ],
   "source": [
    "\n",
    "# get list of pdfs\n",
    "pdf_files = [f for f in os.listdir(RAW_TEST_RESUMES_PATH) if f.endswith(\".pdf\")]\n",
    "\n",
    "# extract text from each PDF and store it in a DataFrame\n",
    "resume_data = []\n",
    "for pdf_file in tqdm(pdf_files, desc=\"Extracting text from PDFs\"):\n",
    "    pdf_path = os.path.join(RAW_TEST_RESUMES_PATH, pdf_file)\n",
    "    resume_text = extract_text_from_pdf(pdf_path)\n",
    "    resume_data.append({\"filename\": pdf_file, \"resume_text\": resume_text})\n",
    "\n",
    "# convert to DataFrame\n",
    "df_resumes_test = pd.DataFrame(resume_data)\n",
    "\n",
    "# Preview extracted resumes\n",
    "df_resumes_test.head()"
   ]
  },
  {
   "cell_type": "code",
   "execution_count": 160,
   "metadata": {},
   "outputs": [
    {
     "name": "stdout",
     "output_type": "stream",
     "text": [
      "60\n",
      "Number of duplicate rows: 0\n"
     ]
    }
   ],
   "source": [
    "# count rows\n",
    "print(len(df_resumes_test)) \n",
    "\n",
    "# count for duplicates\n",
    "num_duplicates = df_resumes_test.duplicated().sum()\n",
    "print(f\"Number of duplicate rows: {num_duplicates}\")\n",
    "\n"
   ]
  },
  {
   "cell_type": "code",
   "execution_count": 161,
   "metadata": {},
   "outputs": [
    {
     "data": {
      "text/html": [
       "<div>\n",
       "<style scoped>\n",
       "    .dataframe tbody tr th:only-of-type {\n",
       "        vertical-align: middle;\n",
       "    }\n",
       "\n",
       "    .dataframe tbody tr th {\n",
       "        vertical-align: top;\n",
       "    }\n",
       "\n",
       "    .dataframe thead th {\n",
       "        text-align: right;\n",
       "    }\n",
       "</style>\n",
       "<table border=\"1\" class=\"dataframe\">\n",
       "  <thead>\n",
       "    <tr style=\"text-align: right;\">\n",
       "      <th></th>\n",
       "      <th>job_description</th>\n",
       "    </tr>\n",
       "  </thead>\n",
       "  <tbody>\n",
       "    <tr>\n",
       "      <th>0</th>\n",
       "      <td>**TITLE**: Data Scientist **DESCRIPTIONS** Abo...</td>\n",
       "    </tr>\n",
       "    <tr>\n",
       "      <th>1</th>\n",
       "      <td>**TITLE**: Senior Data Scientist, FP&amp;A **DESCR...</td>\n",
       "    </tr>\n",
       "    <tr>\n",
       "      <th>2</th>\n",
       "      <td>**TITLE**: BI Developer (Tableau) **DESCRIPTIO...</td>\n",
       "    </tr>\n",
       "    <tr>\n",
       "      <th>3</th>\n",
       "      <td>**TITLE**: Search &amp; Information Retrieval Engi...</td>\n",
       "    </tr>\n",
       "    <tr>\n",
       "      <th>4</th>\n",
       "      <td>**TITLE**: Machine Learning Engineer **DESCRIP...</td>\n",
       "    </tr>\n",
       "  </tbody>\n",
       "</table>\n",
       "</div>"
      ],
      "text/plain": [
       "                                     job_description\n",
       "0  **TITLE**: Data Scientist **DESCRIPTIONS** Abo...\n",
       "1  **TITLE**: Senior Data Scientist, FP&A **DESCR...\n",
       "2  **TITLE**: BI Developer (Tableau) **DESCRIPTIO...\n",
       "3  **TITLE**: Search & Information Retrieval Engi...\n",
       "4  **TITLE**: Machine Learning Engineer **DESCRIP..."
      ]
     },
     "execution_count": 161,
     "metadata": {},
     "output_type": "execute_result"
    }
   ],
   "source": [
    "# load job descriptions\n",
    "job_descriptions = pd.read_csv(os.path.join(RAW_JOBS_PATH, \"job_descriptions.csv\"))\n",
    "\n",
    "# format job descriptions\n",
    "job_descriptions[\"job_description\"] = \"**TITLE**: \" + job_descriptions[\"title\"] + \\\n",
    "                                      \" **DESCRIPTIONS** \" + job_descriptions[\"description\"] + \\\n",
    "                                      \" **COMPANY** \" + job_descriptions[\"company\"]\n",
    "\n",
    "# Drop unnecessary columns\n",
    "job_descriptions = job_descriptions.drop(columns=[\"title\", \"description\", \"company\", \n",
    "                                                  \"city\", \"state\", \"zipcode\", \"salary\", \"rating\", \"reviews\"])\n",
    "\n",
    "job_descriptions.head()\n"
   ]
  },
  {
   "cell_type": "code",
   "execution_count": 162,
   "metadata": {},
   "outputs": [
    {
     "data": {
      "text/plain": [
       "3196"
      ]
     },
     "execution_count": 162,
     "metadata": {},
     "output_type": "execute_result"
    }
   ],
   "source": [
    "# count rows\n",
    "len(job_descriptions)\n"
   ]
  },
  {
   "cell_type": "code",
   "execution_count": 163,
   "metadata": {},
   "outputs": [
    {
     "name": "stdout",
     "output_type": "stream",
     "text": [
      "150\n"
     ]
    }
   ],
   "source": [
    "# combines train and test resumes\n",
    "df_resumes = pd.concat([df_resumes_train, df_resumes_test])\n",
    "\n",
    "# count rows\n",
    "print(len(df_resumes)) \n",
    "\n"
   ]
  },
  {
   "cell_type": "code",
   "execution_count": 167,
   "metadata": {},
   "outputs": [
    {
     "data": {
      "text/html": [
       "<div>\n",
       "<style scoped>\n",
       "    .dataframe tbody tr th:only-of-type {\n",
       "        vertical-align: middle;\n",
       "    }\n",
       "\n",
       "    .dataframe tbody tr th {\n",
       "        vertical-align: top;\n",
       "    }\n",
       "\n",
       "    .dataframe thead th {\n",
       "        text-align: right;\n",
       "    }\n",
       "</style>\n",
       "<table border=\"1\" class=\"dataframe\">\n",
       "  <thead>\n",
       "    <tr style=\"text-align: right;\">\n",
       "      <th></th>\n",
       "      <th>filename</th>\n",
       "      <th>resume_text</th>\n",
       "    </tr>\n",
       "  </thead>\n",
       "  <tbody>\n",
       "    <tr>\n",
       "      <th>0</th>\n",
       "      <td>candidate_070.pdf</td>\n",
       "      <td>Publicis Sapient\\nDATA PROGRAMMER, JAN 2019 - ...</td>\n",
       "    </tr>\n",
       "    <tr>\n",
       "      <th>1</th>\n",
       "      <td>candidate_064.pdf</td>\n",
       "      <td>DAMIAN ROSSIER\\nPROFILE\\nExpertise EDA modeler...</td>\n",
       "    </tr>\n",
       "    <tr>\n",
       "      <th>2</th>\n",
       "      <td>candidate_138.pdf</td>\n",
       "      <td>One97 Communications Limited \\nData Scientist ...</td>\n",
       "    </tr>\n",
       "    <tr>\n",
       "      <th>3</th>\n",
       "      <td>candidate_104.pdf</td>\n",
       "      <td>Sanrachna SGT University \\nDeputy Data Analyst...</td>\n",
       "    </tr>\n",
       "    <tr>\n",
       "      <th>4</th>\n",
       "      <td>candidate_110.pdf</td>\n",
       "      <td>BILL CLIFFORD\\nPROFILE\\nI am an experienced an...</td>\n",
       "    </tr>\n",
       "  </tbody>\n",
       "</table>\n",
       "</div>"
      ],
      "text/plain": [
       "            filename                                        resume_text\n",
       "0  candidate_070.pdf  Publicis Sapient\\nDATA PROGRAMMER, JAN 2019 - ...\n",
       "1  candidate_064.pdf  DAMIAN ROSSIER\\nPROFILE\\nExpertise EDA modeler...\n",
       "2  candidate_138.pdf  One97 Communications Limited \\nData Scientist ...\n",
       "3  candidate_104.pdf  Sanrachna SGT University \\nDeputy Data Analyst...\n",
       "4  candidate_110.pdf  BILL CLIFFORD\\nPROFILE\\nI am an experienced an..."
      ]
     },
     "execution_count": 167,
     "metadata": {},
     "output_type": "execute_result"
    }
   ],
   "source": [
    "# combine the resumes with job descriptions\n",
    "# 2000 rows\n",
    "num_resumes = len(df_resumes)\n",
    "repeated_resumes = [df_resumes.iloc[i % num_resumes] for i in range(2000)]\n",
    "df_resumes_expanded = pd.DataFrame(repeated_resumes).reset_index(drop=True)\n",
    "df_resumes_expanded.head()\n",
    "\n",
    "\n"
   ]
  },
  {
   "cell_type": "code",
   "execution_count": 168,
   "metadata": {},
   "outputs": [
    {
     "name": "stdout",
     "output_type": "stream",
     "text": [
      "Total resumes available: 150\n"
     ]
    }
   ],
   "source": [
    "print(f\"Total resumes available: {num_resumes}\")"
   ]
  },
  {
   "cell_type": "code",
   "execution_count": 169,
   "metadata": {},
   "outputs": [
    {
     "data": {
      "text/html": [
       "<div>\n",
       "<style scoped>\n",
       "    .dataframe tbody tr th:only-of-type {\n",
       "        vertical-align: middle;\n",
       "    }\n",
       "\n",
       "    .dataframe tbody tr th {\n",
       "        vertical-align: top;\n",
       "    }\n",
       "\n",
       "    .dataframe thead th {\n",
       "        text-align: right;\n",
       "    }\n",
       "</style>\n",
       "<table border=\"1\" class=\"dataframe\">\n",
       "  <thead>\n",
       "    <tr style=\"text-align: right;\">\n",
       "      <th></th>\n",
       "      <th>job_description</th>\n",
       "      <th>resume_text</th>\n",
       "    </tr>\n",
       "  </thead>\n",
       "  <tbody>\n",
       "    <tr>\n",
       "      <th>0</th>\n",
       "      <td>**TITLE**: Product Manager - Computer Vision *...</td>\n",
       "      <td>Publicis Sapient\\nDATA PROGRAMMER, JAN 2019 - ...</td>\n",
       "    </tr>\n",
       "    <tr>\n",
       "      <th>1</th>\n",
       "      <td>**TITLE**: Machine Learning Software Engineer ...</td>\n",
       "      <td>DAMIAN ROSSIER\\nPROFILE\\nExpertise EDA modeler...</td>\n",
       "    </tr>\n",
       "    <tr>\n",
       "      <th>2</th>\n",
       "      <td>**TITLE**: Data Engineer **DESCRIPTIONS** Data...</td>\n",
       "      <td>One97 Communications Limited \\nData Scientist ...</td>\n",
       "    </tr>\n",
       "    <tr>\n",
       "      <th>3</th>\n",
       "      <td>**TITLE**: Sr. Data Engineer **DESCRIPTIONS** ...</td>\n",
       "      <td>Sanrachna SGT University \\nDeputy Data Analyst...</td>\n",
       "    </tr>\n",
       "    <tr>\n",
       "      <th>4</th>\n",
       "      <td>**TITLE**: Machine Learning Engineer **DESCRIP...</td>\n",
       "      <td>BILL CLIFFORD\\nPROFILE\\nI am an experienced an...</td>\n",
       "    </tr>\n",
       "  </tbody>\n",
       "</table>\n",
       "</div>"
      ],
      "text/plain": [
       "                                     job_description  \\\n",
       "0  **TITLE**: Product Manager - Computer Vision *...   \n",
       "1  **TITLE**: Machine Learning Software Engineer ...   \n",
       "2  **TITLE**: Data Engineer **DESCRIPTIONS** Data...   \n",
       "3  **TITLE**: Sr. Data Engineer **DESCRIPTIONS** ...   \n",
       "4  **TITLE**: Machine Learning Engineer **DESCRIP...   \n",
       "\n",
       "                                         resume_text  \n",
       "0  Publicis Sapient\\nDATA PROGRAMMER, JAN 2019 - ...  \n",
       "1  DAMIAN ROSSIER\\nPROFILE\\nExpertise EDA modeler...  \n",
       "2  One97 Communications Limited \\nData Scientist ...  \n",
       "3  Sanrachna SGT University \\nDeputy Data Analyst...  \n",
       "4  BILL CLIFFORD\\nPROFILE\\nI am an experienced an...  "
      ]
     },
     "execution_count": 169,
     "metadata": {},
     "output_type": "execute_result"
    }
   ],
   "source": [
    "job_descriptions_sampled = job_descriptions.sample(n=2000, random_state=42).reset_index(drop=True)\n",
    "\n",
    "# Preview sample\n",
    "job_descriptions_sampled.head()\n",
    "\n",
    "# merge both\n",
    "final_df = job_descriptions_sampled.copy()\n",
    "final_df[\"resume_text\"] = df_resumes_expanded[\"resume_text\"].values  # Assign resumes\n",
    "\n",
    "# Preview the merged dataset\n",
    "final_df.head()"
   ]
  },
  {
   "cell_type": "code",
   "execution_count": 170,
   "metadata": {},
   "outputs": [
    {
     "name": "stdout",
     "output_type": "stream",
     "text": [
      "2000\n",
      "Number of duplicate rows: 0\n"
     ]
    }
   ],
   "source": [
    "# count rows\n",
    "print(len(final_df))\n",
    "\n",
    "# count for duplicates\n",
    "num_duplicates = final_df.duplicated().sum()\n",
    "print(f\"Number of duplicate rows: {num_duplicates}\")\n"
   ]
  },
  {
   "cell_type": "code",
   "execution_count": 287,
   "metadata": {},
   "outputs": [
    {
     "data": {
      "text/html": [
       "<div>\n",
       "<style scoped>\n",
       "    .dataframe tbody tr th:only-of-type {\n",
       "        vertical-align: middle;\n",
       "    }\n",
       "\n",
       "    .dataframe tbody tr th {\n",
       "        vertical-align: top;\n",
       "    }\n",
       "\n",
       "    .dataframe thead th {\n",
       "        text-align: right;\n",
       "    }\n",
       "</style>\n",
       "<table border=\"1\" class=\"dataframe\">\n",
       "  <thead>\n",
       "    <tr style=\"text-align: right;\">\n",
       "      <th></th>\n",
       "      <th>job_description</th>\n",
       "      <th>resume_text</th>\n",
       "      <th>job_text_clean</th>\n",
       "      <th>resume_text_clean</th>\n",
       "      <th>tfidf_cosine</th>\n",
       "      <th>jaccard</th>\n",
       "      <th>bert_similarity</th>\n",
       "      <th>ngram_overlap</th>\n",
       "    </tr>\n",
       "  </thead>\n",
       "  <tbody>\n",
       "    <tr>\n",
       "      <th>0</th>\n",
       "      <td>**TITLE**: Product Manager - Computer Vision *...</td>\n",
       "      <td>Publicis Sapient\\nDATA PROGRAMMER, JAN 2019 - ...</td>\n",
       "      <td>product manager computer vision want join fun ...</td>\n",
       "      <td>publicis sapient data programmer jan 2019 till...</td>\n",
       "      <td>0.056140</td>\n",
       "      <td>0.062284</td>\n",
       "      <td>0.627379</td>\n",
       "      <td>0.020333</td>\n",
       "    </tr>\n",
       "    <tr>\n",
       "      <th>1</th>\n",
       "      <td>**TITLE**: Machine Learning Software Engineer ...</td>\n",
       "      <td>DAMIAN ROSSIER\\nPROFILE\\nExpertise EDA modeler...</td>\n",
       "      <td>machine learning software engineer replica pro...</td>\n",
       "      <td>damian rossier profile expertise eda modeler l...</td>\n",
       "      <td>0.090769</td>\n",
       "      <td>0.049505</td>\n",
       "      <td>0.552868</td>\n",
       "      <td>0.014493</td>\n",
       "    </tr>\n",
       "    <tr>\n",
       "      <th>2</th>\n",
       "      <td>**TITLE**: Data Engineer **DESCRIPTIONS** Data...</td>\n",
       "      <td>One97 Communications Limited \\nData Scientist ...</td>\n",
       "      <td>data engineer data engineer data engineer expe...</td>\n",
       "      <td>one97 communication limited data scientist jan...</td>\n",
       "      <td>0.141896</td>\n",
       "      <td>0.067669</td>\n",
       "      <td>0.793586</td>\n",
       "      <td>0.023327</td>\n",
       "    </tr>\n",
       "    <tr>\n",
       "      <th>3</th>\n",
       "      <td>**TITLE**: Sr. Data Engineer **DESCRIPTIONS** ...</td>\n",
       "      <td>Sanrachna SGT University \\nDeputy Data Analyst...</td>\n",
       "      <td>sr data engineer position part operation suppo...</td>\n",
       "      <td>sanrachna sgt university deputy data analyst j...</td>\n",
       "      <td>0.185680</td>\n",
       "      <td>0.066079</td>\n",
       "      <td>0.694158</td>\n",
       "      <td>0.019653</td>\n",
       "    </tr>\n",
       "    <tr>\n",
       "      <th>4</th>\n",
       "      <td>**TITLE**: Machine Learning Engineer **DESCRIP...</td>\n",
       "      <td>BILL CLIFFORD\\nPROFILE\\nI am an experienced an...</td>\n",
       "      <td>machine learning engineer job entail working d...</td>\n",
       "      <td>bill clifford profile experienced analytics sp...</td>\n",
       "      <td>0.015694</td>\n",
       "      <td>0.030675</td>\n",
       "      <td>0.469606</td>\n",
       "      <td>0.008818</td>\n",
       "    </tr>\n",
       "  </tbody>\n",
       "</table>\n",
       "</div>"
      ],
      "text/plain": [
       "                                     job_description  \\\n",
       "0  **TITLE**: Product Manager - Computer Vision *...   \n",
       "1  **TITLE**: Machine Learning Software Engineer ...   \n",
       "2  **TITLE**: Data Engineer **DESCRIPTIONS** Data...   \n",
       "3  **TITLE**: Sr. Data Engineer **DESCRIPTIONS** ...   \n",
       "4  **TITLE**: Machine Learning Engineer **DESCRIP...   \n",
       "\n",
       "                                         resume_text  \\\n",
       "0  Publicis Sapient\\nDATA PROGRAMMER, JAN 2019 - ...   \n",
       "1  DAMIAN ROSSIER\\nPROFILE\\nExpertise EDA modeler...   \n",
       "2  One97 Communications Limited \\nData Scientist ...   \n",
       "3  Sanrachna SGT University \\nDeputy Data Analyst...   \n",
       "4  BILL CLIFFORD\\nPROFILE\\nI am an experienced an...   \n",
       "\n",
       "                                      job_text_clean  \\\n",
       "0  product manager computer vision want join fun ...   \n",
       "1  machine learning software engineer replica pro...   \n",
       "2  data engineer data engineer data engineer expe...   \n",
       "3  sr data engineer position part operation suppo...   \n",
       "4  machine learning engineer job entail working d...   \n",
       "\n",
       "                                   resume_text_clean  tfidf_cosine   jaccard  \\\n",
       "0  publicis sapient data programmer jan 2019 till...      0.056140  0.062284   \n",
       "1  damian rossier profile expertise eda modeler l...      0.090769  0.049505   \n",
       "2  one97 communication limited data scientist jan...      0.141896  0.067669   \n",
       "3  sanrachna sgt university deputy data analyst j...      0.185680  0.066079   \n",
       "4  bill clifford profile experienced analytics sp...      0.015694  0.030675   \n",
       "\n",
       "   bert_similarity  ngram_overlap  \n",
       "0         0.627379       0.020333  \n",
       "1         0.552868       0.014493  \n",
       "2         0.793586       0.023327  \n",
       "3         0.694158       0.019653  \n",
       "4         0.469606       0.008818  "
      ]
     },
     "execution_count": 287,
     "metadata": {},
     "output_type": "execute_result"
    }
   ],
   "source": [
    "# Separate the columns into lists for processing\n",
    "cleaned_df_path = os.path.join(PROJECT_ROOT, \"data/outputs/matched_resumes_jobs_withfeatures.csv\")\n",
    "final_df = pd.read_csv(cleaned_df_path)\n",
    "job_texts = final_df[\"job_text_clean\"].tolist()\n",
    "resume_texts = final_df[\"resume_text_clean\"].tolist()\n",
    "\n",
    "# head of cleaned df\n",
    "final_df.head()\n"
   ]
  },
  {
   "cell_type": "code",
   "execution_count": 288,
   "metadata": {},
   "outputs": [
    {
     "name": "stdout",
     "output_type": "stream",
     "text": [
      "TF-IDF Cosine Similarity Scores:\n",
      "0       0.056140\n",
      "1       0.090769\n",
      "2       0.141896\n",
      "3       0.185680\n",
      "4       0.015694\n",
      "          ...   \n",
      "1995    0.105268\n",
      "1996    0.055524\n",
      "1997    0.054962\n",
      "1998    0.039447\n",
      "1999    0.033053\n",
      "Name: tfidf_cosine, Length: 2000, dtype: float64\n"
     ]
    }
   ],
   "source": [
    "tfidf_cosine_sim = final_df[\"tfidf_cosine\"]\n",
    "\n",
    "# Print the TF-IDF cosine similarity scores for inspection\n",
    "print(\"TF-IDF Cosine Similarity Scores:\")\n",
    "print(tfidf_cosine_sim)\n"
   ]
  },
  {
   "cell_type": "code",
   "execution_count": 289,
   "metadata": {},
   "outputs": [
    {
     "data": {
      "image/png": "[encoded data removed]",
      "text/plain": [
       "<Figure size 640x480 with 1 Axes>"
      ]
     },
     "metadata": {},
     "output_type": "display_data"
    },
    {
     "name": "stdout",
     "output_type": "stream",
     "text": [
      "Mean cosine similarity: 0.07305015896751046\n",
      "Median cosine similarity: 0.06420163576817815\n"
     ]
    }
   ],
   "source": [
    "# visualize cosine similarity\n",
    "plt.hist(tfidf_cosine_sim, bins=20, edgecolor='black')\n",
    "plt.title('Cosine Similarity Distribution')\n",
    "plt.xlabel('Cosine Similarity')\n",
    "plt.ylabel('Frequency')\n",
    "plt.show()\n",
    "\n",
    "# mean and median of cosine similarity\n",
    "print(f\"Mean cosine similarity: {np.mean(tfidf_cosine_sim)}\")\n",
    "print(f\"Median cosine similarity: {np.median(tfidf_cosine_sim)}\")\n"
   ]
  },
  {
   "cell_type": "code",
   "execution_count": 290,
   "metadata": {},
   "outputs": [
    {
     "name": "stdout",
     "output_type": "stream",
     "text": [
      "Jaccard Similarity Scores:\n",
      "0    0.062284\n",
      "1    0.049505\n",
      "2    0.067669\n",
      "3    0.066079\n",
      "4    0.030675\n",
      "5    0.063584\n",
      "6    0.033613\n",
      "7    0.064846\n",
      "8    0.038961\n",
      "9    0.043689\n",
      "Name: jaccard, dtype: float64\n"
     ]
    }
   ],
   "source": [
    "jaccard_scores = final_df[\"jaccard\"]\n",
    "\n",
    "print(\"Jaccard Similarity Scores:\")\n",
    "print(jaccard_scores[:10])\n"
   ]
  },
  {
   "cell_type": "code",
   "execution_count": 292,
   "metadata": {},
   "outputs": [
    {
     "data": {
      "image/png": "[encoded data removed]",
      "text/plain": [
       "<Figure size 640x480 with 1 Axes>"
      ]
     },
     "metadata": {},
     "output_type": "display_data"
    },
    {
     "name": "stdout",
     "output_type": "stream",
     "text": [
      "Mean jaccard similarity: 0.04911329753473298\n",
      "Median jaccard similarity: 0.047209931170108146\n"
     ]
    }
   ],
   "source": [
    "# visualize cosine similarity\n",
    "plt.hist(jaccard_scores, bins=20, edgecolor='black')\n",
    "plt.title('Jaccard Similarity Distribution')\n",
    "plt.xlabel('Jaccard Similarity')\n",
    "plt.ylabel('Frequency')\n",
    "plt.show()\n",
    "\n",
    "# mean and median of jaccard similarity\n",
    "print(f\"Mean jaccard similarity: {np.mean(jaccard_scores)}\")\n",
    "print(f\"Median jaccard similarity: {np.median(jaccard_scores)}\")\n"
   ]
  },
  {
   "cell_type": "code",
   "execution_count": 293,
   "metadata": {},
   "outputs": [
    {
     "name": "stdout",
     "output_type": "stream",
     "text": [
      "BERT Cosine Similarity Scores:\n",
      "0    0.627379\n",
      "1    0.552868\n",
      "2    0.793586\n",
      "3    0.694158\n",
      "4    0.469606\n",
      "5    0.664020\n",
      "6    0.335701\n",
      "7    0.496739\n",
      "8    0.444519\n",
      "9    0.596435\n",
      "Name: bert_similarity, dtype: float64\n"
     ]
    },
    {
     "data": {
      "image/png": "[encoded data removed]",
      "text/plain": [
       "<Figure size 640x480 with 1 Axes>"
      ]
     },
     "metadata": {},
     "output_type": "display_data"
    },
    {
     "name": "stdout",
     "output_type": "stream",
     "text": [
      "Mean BERT similarity: 0.5516305777949999\n",
      "Median BERT similarity: 0.55775515\n"
     ]
    }
   ],
   "source": [
    "bert_similarities = final_df[\"bert_similarity\"]\n",
    "\n",
    "# Print the BERT cosine similarity scores for inspection\n",
    "print(\"BERT Cosine Similarity Scores:\")\n",
    "print(bert_similarities[:10])\n",
    "\n",
    "# visualize cosine similarity\n",
    "plt.hist(bert_similarities, bins=20, edgecolor='black')\n",
    "plt.title('BERT Cosine Similarity Distribution')\n",
    "plt.xlabel('BERT Cosine Similarity')\n",
    "plt.ylabel('Frequency')\n",
    "plt.show()\n",
    "# mean and median of bert similarity\n",
    "print(f\"Mean BERT similarity: {np.mean(bert_similarities)}\")\n",
    "print(f\"Median BERT similarity: {np.median(bert_similarities)}\")"
   ]
  },
  {
   "cell_type": "code",
   "execution_count": 294,
   "metadata": {},
   "outputs": [
    {
     "name": "stdout",
     "output_type": "stream",
     "text": [
      "0       0.020333\n",
      "1       0.014493\n",
      "2       0.023327\n",
      "3       0.019653\n",
      "4       0.008818\n",
      "          ...   \n",
      "1995    0.010693\n",
      "1996    0.017013\n",
      "1997    0.015674\n",
      "1998    0.016729\n",
      "1999    0.007782\n",
      "Name: ngram_overlap, Length: 2000, dtype: float64\n"
     ]
    },
    {
     "data": {
      "image/png": "[encoded data removed]",
      "text/plain": [
       "<Figure size 640x480 with 1 Axes>"
      ]
     },
     "metadata": {},
     "output_type": "display_data"
    },
    {
     "name": "stdout",
     "output_type": "stream",
     "text": [
      "Mean ngram overlap: 0.014521580331642102\n",
      "Median ngram overlap: 0.013706457925636\n"
     ]
    }
   ],
   "source": [
    "ngram_overlap_scores = final_df[\"ngram_overlap\"]\n",
    "\n",
    "print(ngram_overlap_scores)\n",
    "# visualize ngram overlap\n",
    "plt.hist(ngram_overlap_scores, bins=20, edgecolor='black')\n",
    "plt.title('N-Gram Overlap Distribution')\n",
    "plt.xlabel('N-Gram Overlap')\n",
    "plt.ylabel('Frequency')\n",
    "plt.show()\n",
    "# mean and median of ngram overlap\n",
    "print(f\"Mean ngram overlap: {np.mean(ngram_overlap_scores)}\")\n",
    "print(f\"Median ngram overlap: {np.median(ngram_overlap_scores)}\")"
   ]
  },
  {
   "cell_type": "code",
   "execution_count": null,
   "metadata": {},
   "outputs": [
    {
     "data": {
      "image/png": "[encoded data removed]",
      "text/plain": [
       "<Figure size 1000x800 with 2 Axes>"
      ]
     },
     "metadata": {},
     "output_type": "display_data"
    }
   ],
   "source": [
    "import seaborn as sns\n",
    "# correlation matrix\n",
    "gmm_df_path = os.path.join(PROJECT_ROOT, \"data/outputs/matched_resumes_jobs_withgmm.csv\")\n",
    "\n",
    "gmm_df = pd.read_csv(gmm_df_path)\n",
    "correlation_matrix = gmm_df[[\"tfidf_cosine\", \"jaccard\", \"bert_similarity\", \"ngram_overlap\", \"gmm_match_score\"]].corr()\n",
    "\n",
    "\n",
    "# visualize correlation matrix\n",
    "plt.figure(figsize=(10, 8))\n",
    "sns.heatmap(correlation_matrix, annot=True, cmap='coolwarm', center=0)\n",
    "plt.title('Correlation Matrix of Features')\n",
    "plt.show()\n"
   ]
  },
  {
   "cell_type": "markdown",
   "metadata": {},
   "source": []
  }
 ],
 "metadata": {
  "kernelspec": {
   "display_name": "venv311",
   "language": "python",
   "name": "python3"
  },
  "language_info": {
   "codemirror_mode": {
    "name": "ipython",
    "version": 3
   },
   "file_extension": ".py",
   "mimetype": "text/x-python",
   "name": "python",
   "nbconvert_exporter": "python",
   "pygments_lexer": "ipython3",
   "version": "3.11.11"
  }
 },
 "nbformat": 4,
 "nbformat_minor": 2
}
