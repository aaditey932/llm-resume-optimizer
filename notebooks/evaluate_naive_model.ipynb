{
 "cells": [
  {
   "cell_type": "code",
   "execution_count": 1,
   "id": "5cb6f4f3",
   "metadata": {},
   "outputs": [
    {
     "name": "stderr",
     "output_type": "stream",
     "text": [
      "[nltk_data] Downloading package punkt to /Users/abhishek/nltk_data...\n",
      "[nltk_data]   Package punkt is already up-to-date!\n"
     ]
    },
    {
     "data": {
      "text/plain": [
       "True"
      ]
     },
     "execution_count": 1,
     "metadata": {},
     "output_type": "execute_result"
    }
   ],
   "source": [
    "\n",
    "import pandas as pd\n",
    "import pickle\n",
    "import re\n",
    "import nltk\n",
    "from nltk.tokenize import word_tokenize\n",
    "\n",
    "nltk.download('punkt')\n"
   ]
  },
  {
   "cell_type": "code",
   "execution_count": 2,
   "id": "a19e1266",
   "metadata": {},
   "outputs": [],
   "source": [
    "\n",
    "# Load sample resumes\n",
    "sample_df = pd.read_csv(\"/Users/abhishek/Downloads/sample_resumes.csv\")\n"
   ]
  },
  {
   "cell_type": "code",
   "execution_count": 3,
   "id": "cb26870f",
   "metadata": {},
   "outputs": [],
   "source": [
    "\n",
    "# Load the trained naive keyword model\n",
    "with open(\"/Users/abhishek/Projects/aipi540/resume_optimization/lllm-resume-optimizer/models/category_keywords.pkl\", \"rb\") as file:\n",
    "    category_keywords = pickle.load(file)\n"
   ]
  },
  {
   "cell_type": "code",
   "execution_count": 4,
   "id": "c2fa80a7",
   "metadata": {},
   "outputs": [],
   "source": [
    "\n",
    "# Text cleaning function\n",
    "def clean_text(text):\n",
    "    text = str(text).lower()\n",
    "    text = re.sub(r'[^a-z\\s]', '', text)\n",
    "    return word_tokenize(text)\n",
    "\n",
    "# Match resume to top job title using keyword overlap\n",
    "def match_resume_keywords(resume_words):\n",
    "    match_scores = []\n",
    "    for job_title, keywords in category_keywords.items():\n",
    "        common = set(resume_words) & set(keywords)\n",
    "        score = len(common) / len(keywords) if keywords else 0\n",
    "        match_scores.append((job_title, score))\n",
    "    top_match = sorted(match_scores, key=lambda x: x[1], reverse=True)[0]\n",
    "    return top_match\n"
   ]
  },
  {
   "cell_type": "code",
   "execution_count": 7,
   "id": "0f5e2367",
   "metadata": {},
   "outputs": [],
   "source": [
    "\n",
    "# Evaluate Top-1 Accuracy\n",
    "results = []\n",
    "\n",
    "for _, row in sample_df.iterrows():\n",
    "    resume_words = clean_text(row[\"resume_content\"])\n",
    "    predicted_title, score = match_resume_keywords(resume_words)\n",
    "    actual_title = row[\"title\"]\n",
    "    is_correct = int(actual_title.strip().lower() == predicted_title.strip().lower())\n",
    "    correct += is_correct\n",
    "    results.append({\n",
    "        \"actual_title\": actual_title,\n",
    "        \"predicted_title\": predicted_title,\n",
    "        \"match_score\": round(score * 100, 2)\n",
    "    })\n",
    "\n",
    "results_df = pd.DataFrame(results)\n"
   ]
  },
  {
   "cell_type": "code",
   "execution_count": 8,
   "id": "e99880a4",
   "metadata": {},
   "outputs": [
    {
     "data": {
      "text/html": [
       "<div>\n",
       "<style scoped>\n",
       "    .dataframe tbody tr th:only-of-type {\n",
       "        vertical-align: middle;\n",
       "    }\n",
       "\n",
       "    .dataframe tbody tr th {\n",
       "        vertical-align: top;\n",
       "    }\n",
       "\n",
       "    .dataframe thead th {\n",
       "        text-align: right;\n",
       "    }\n",
       "</style>\n",
       "<table border=\"1\" class=\"dataframe\">\n",
       "  <thead>\n",
       "    <tr style=\"text-align: right;\">\n",
       "      <th></th>\n",
       "      <th>actual_title</th>\n",
       "      <th>predicted_title</th>\n",
       "      <th>match_score</th>\n",
       "    </tr>\n",
       "  </thead>\n",
       "  <tbody>\n",
       "    <tr>\n",
       "      <th>0</th>\n",
       "      <td>Data Scientist</td>\n",
       "      <td>Data Scientist - FinTech</td>\n",
       "      <td>40.0</td>\n",
       "    </tr>\n",
       "    <tr>\n",
       "      <th>1</th>\n",
       "      <td>Senior Data Scientist, FP&amp;A</td>\n",
       "      <td>Senior Data Scientist, FP&amp;A</td>\n",
       "      <td>30.0</td>\n",
       "    </tr>\n",
       "    <tr>\n",
       "      <th>2</th>\n",
       "      <td>BI Developer (Tableau)</td>\n",
       "      <td>Business Intelligence Developer/Analyst</td>\n",
       "      <td>30.0</td>\n",
       "    </tr>\n",
       "    <tr>\n",
       "      <th>3</th>\n",
       "      <td>Search &amp; Information Retrieval Engineer</td>\n",
       "      <td>BIG Data Engineer</td>\n",
       "      <td>30.0</td>\n",
       "    </tr>\n",
       "    <tr>\n",
       "      <th>4</th>\n",
       "      <td>Machine Learning Engineer</td>\n",
       "      <td>Machine Learning Infrastructure Engineer</td>\n",
       "      <td>50.0</td>\n",
       "    </tr>\n",
       "    <tr>\n",
       "      <th>5</th>\n",
       "      <td>Software Engineer (Backend)</td>\n",
       "      <td>BIG Data Engineer</td>\n",
       "      <td>30.0</td>\n",
       "    </tr>\n",
       "    <tr>\n",
       "      <th>6</th>\n",
       "      <td>NLP Research Intern</td>\n",
       "      <td>Natural Language Processing Expert</td>\n",
       "      <td>35.0</td>\n",
       "    </tr>\n",
       "    <tr>\n",
       "      <th>7</th>\n",
       "      <td>Cloud Solutions Architect</td>\n",
       "      <td>Global Solutions Architect</td>\n",
       "      <td>30.0</td>\n",
       "    </tr>\n",
       "    <tr>\n",
       "      <th>8</th>\n",
       "      <td>Data Analyst</td>\n",
       "      <td>Data Analyst</td>\n",
       "      <td>40.0</td>\n",
       "    </tr>\n",
       "    <tr>\n",
       "      <th>9</th>\n",
       "      <td>Product Manager (AI)</td>\n",
       "      <td>Product Manager- Business Intelligence</td>\n",
       "      <td>35.0</td>\n",
       "    </tr>\n",
       "  </tbody>\n",
       "</table>\n",
       "</div>"
      ],
      "text/plain": [
       "                              actual_title  \\\n",
       "0                           Data Scientist   \n",
       "1              Senior Data Scientist, FP&A   \n",
       "2                   BI Developer (Tableau)   \n",
       "3  Search & Information Retrieval Engineer   \n",
       "4                Machine Learning Engineer   \n",
       "5              Software Engineer (Backend)   \n",
       "6                      NLP Research Intern   \n",
       "7                Cloud Solutions Architect   \n",
       "8                             Data Analyst   \n",
       "9                     Product Manager (AI)   \n",
       "\n",
       "                            predicted_title  match_score  \n",
       "0                  Data Scientist - FinTech         40.0  \n",
       "1               Senior Data Scientist, FP&A         30.0  \n",
       "2   Business Intelligence Developer/Analyst         30.0  \n",
       "3                         BIG Data Engineer         30.0  \n",
       "4  Machine Learning Infrastructure Engineer         50.0  \n",
       "5                         BIG Data Engineer         30.0  \n",
       "6        Natural Language Processing Expert         35.0  \n",
       "7                Global Solutions Architect         30.0  \n",
       "8                              Data Analyst         40.0  \n",
       "9    Product Manager- Business Intelligence         35.0  "
      ]
     },
     "execution_count": 8,
     "metadata": {},
     "output_type": "execute_result"
    }
   ],
   "source": [
    "\n",
    "# Show results\n",
    "results_df[[\"actual_title\", \"predicted_title\", \"match_score\"]]\n"
   ]
  },
  {
   "cell_type": "markdown",
   "id": "1939a74e",
   "metadata": {},
   "source": [
    "## 8 samples match correctly with predicted title"
   ]
  },
  {
   "cell_type": "markdown",
   "id": "0d7ed2dc",
   "metadata": {},
   "source": []
  }
 ],
 "metadata": {
  "kernelspec": {
   "display_name": "base",
   "language": "python",
   "name": "python3"
  },
  "language_info": {
   "codemirror_mode": {
    "name": "ipython",
    "version": 3
   },
   "file_extension": ".py",
   "mimetype": "text/x-python",
   "name": "python",
   "nbconvert_exporter": "python",
   "pygments_lexer": "ipython3",
   "version": "3.12.4"
  }
 },
 "nbformat": 4,
 "nbformat_minor": 5
}
